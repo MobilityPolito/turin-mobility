{
 "cells": [
  {
   "cell_type": "markdown",
   "metadata": {},
   "source": [
    "# ICT for transport systems\n",
    "## Laboratory Activity"
   ]
  },
  {
   "cell_type": "markdown",
   "metadata": {},
   "source": [
    "### Introduction"
   ]
  },
  {
   "cell_type": "markdown",
   "metadata": {},
   "source": [
    "The goal of this work is to analyze real data coming from two free floating car sharing providers: Enjoy and Car2Go.\n",
    "In particular, the city of Turin is considered as a case study scenario. Providers' data are enriched with Google Directions API data, for the purpose of bettering metrics accuracy and enabling comparisons between public transports and car sharing services.\n",
    "The data are collected using different techniques depending on the provider: in the case of Enjoy, the data collection is performed through a Web scraper, while in the case of Car2Go and Google the data come from their API.\n",
    "The first section of this notebook is focused on data description and exploration, whilst the second part highlights the data analysis aspects."
   ]
  },
  {
   "cell_type": "markdown",
   "metadata": {},
   "source": [
    "### Step 1 - Preliminary data analysis\n"
   ]
  },
  {
   "cell_type": "markdown",
   "metadata": {},
   "source": [
    "The main entities defined in MongoDB are Databases and Collections. In the next code sections those entities will be wrapped into pymongo objects. Those objects contain all the descriptive informations we need about the data collected."
   ]
  },
  {
   "cell_type": "code",
   "execution_count": 1,
   "metadata": {
    "collapsed": false
   },
   "outputs": [
    {
     "data": {
      "text/plain": [
       "MongoClient(host=['localhost:27017'], document_class=dict, tz_aware=False, connect=True)"
      ]
     },
     "execution_count": 1,
     "metadata": {},
     "output_type": "execute_result"
    }
   ],
   "source": [
    "from pymongo import MongoClient\n",
    "client = MongoClient('mongodb://localhost:27017/')\n",
    "client"
   ]
  },
  {
   "cell_type": "code",
   "execution_count": 2,
   "metadata": {
    "collapsed": false
   },
   "outputs": [
    {
     "data": {
      "text/plain": [
       "Database(MongoClient(host=['localhost:27017'], document_class=dict, tz_aware=False, connect=True), u'CSMS_')"
      ]
     },
     "execution_count": 2,
     "metadata": {},
     "output_type": "execute_result"
    }
   ],
   "source": [
    "client['CSMS_']"
   ]
  },
  {
   "cell_type": "code",
   "execution_count": 20,
   "metadata": {
    "collapsed": false
   },
   "outputs": [
    {
     "data": {
      "text/plain": [
       "[u'fleet', u'parks', u'books', u'snapshots']"
      ]
     },
     "execution_count": 20,
     "metadata": {},
     "output_type": "execute_result"
    }
   ],
   "source": [
    "client['CSMS_'].collection_names()"
   ]
  },
  {
   "cell_type": "code",
   "execution_count": 3,
   "metadata": {
    "collapsed": false
   },
   "outputs": [
    {
     "data": {
      "text/plain": [
       "Collection(Database(MongoClient(host=['localhost:27017'], document_class=dict, tz_aware=False, connect=True), u'CSMS_'), u'books')"
      ]
     },
     "execution_count": 3,
     "metadata": {},
     "output_type": "execute_result"
    }
   ],
   "source": [
    "client['CSMS_']['books']"
   ]
  },
  {
   "cell_type": "code",
   "execution_count": 4,
   "metadata": {
    "collapsed": false
   },
   "outputs": [
    {
     "data": {
      "text/plain": [
       "133987"
      ]
     },
     "execution_count": 4,
     "metadata": {},
     "output_type": "execute_result"
    }
   ],
   "source": [
    "client['CSMS_']['books'].count()"
   ]
  },
  {
   "cell_type": "code",
   "execution_count": 17,
   "metadata": {
    "collapsed": false
   },
   "outputs": [
    {
     "data": {
      "text/plain": [
       "(datetime.datetime(2016, 12, 4, 19, 59, 58, 829000),\n",
       " datetime.datetime(2017, 1, 10, 20, 5, 26, 171000))"
      ]
     },
     "execution_count": 17,
     "metadata": {},
     "output_type": "execute_result"
    }
   ],
   "source": [
    "first_timestamp = client['CSMS_']['books'].find().sort(\"start\", 1).limit(1).next()[\"start\"]\n",
    "last_timestamp = client['CSMS_']['books'].find().sort(\"start\", -1).limit(1).next()[\"start\"]\n",
    "first_timestamp, last_timestamp"
   ]
  },
  {
   "cell_type": "code",
   "execution_count": 13,
   "metadata": {
    "collapsed": false,
    "scrolled": false
   },
   "outputs": [
    {
     "data": {
      "text/plain": [
       "{u'_id': ObjectId('587b6362f5fd7358e43fd25b'),\n",
       " u'arrival_time_google_transit': datetime.datetime(2017, 1, 23, 21, 46, 3),\n",
       " u'city': u'torino',\n",
       " u'departure_time_google': datetime.datetime(2017, 1, 23, 21, 8, 12),\n",
       " u'distance_driving': 6.679,\n",
       " u'distance_google_transit': 7.111,\n",
       " u'duration_driving': 18.483333333333334,\n",
       " u'duration_google_transit': 37.85,\n",
       " u'duration_in_traffic_google': 16.866666666666667,\n",
       " u'end': datetime.datetime(2016, 12, 5, 21, 24, 8, 397000),\n",
       " u'end_fuel': 50.0,\n",
       " u'end_lat': 45.06555,\n",
       " u'end_lon': 7.63681,\n",
       " u'fare_google_transit': 1.5,\n",
       " u'plate': u'224/FF078SJ',\n",
       " u'provider': u'car2go',\n",
       " u'start': datetime.datetime(2016, 12, 5, 21, 4, 31, 10000),\n",
       " u'start_fuel': 53.0,\n",
       " u'start_lat': 45.07784,\n",
       " u'start_lon': 7.69347,\n",
       " u'tot_duration_google_transit': 41.5333339}"
      ]
     },
     "execution_count": 13,
     "metadata": {},
     "output_type": "execute_result"
    }
   ],
   "source": [
    "cursor = client['CSMS_']['books'].find({\"provider\" : \"car2go\"}).sort(\"start\", 1).limit(1)\n",
    "cursor.next()"
   ]
  },
  {
   "cell_type": "code",
   "execution_count": 18,
   "metadata": {
    "collapsed": false
   },
   "outputs": [
    {
     "data": {
      "text/plain": [
       "{u'_id': ObjectId('587b3f89f5fd733718c45de9'),\n",
       " u'city': u'torino',\n",
       " u'end': datetime.datetime(2016, 12, 4, 20, 16, 11, 652000),\n",
       " u'end_fuel': 4.0,\n",
       " u'end_lat': 45.070843,\n",
       " u'end_lon': 7.6936703,\n",
       " u'plate': u'EZ118GW',\n",
       " u'provider': u'enjoy',\n",
       " u'start': datetime.datetime(2016, 12, 4, 19, 59, 58, 829000),\n",
       " u'start_fuel': 5.0,\n",
       " u'start_lat': 45.026306,\n",
       " u'start_lon': 7.676534}"
      ]
     },
     "execution_count": 18,
     "metadata": {},
     "output_type": "execute_result"
    }
   ],
   "source": [
    "cursor = client['CSMS_']['books'].find({\"provider\" : \"enjoy\"}).sort(\"start\", 1).limit(1)\n",
    "cursor.next()"
   ]
  },
  {
   "cell_type": "code",
   "execution_count": null,
   "metadata": {
    "collapsed": true
   },
   "outputs": [],
   "source": []
  },
  {
   "cell_type": "code",
   "execution_count": null,
   "metadata": {
    "collapsed": true
   },
   "outputs": [],
   "source": []
  }
 ],
 "metadata": {
  "anaconda-cloud": {},
  "kernelspec": {
   "display_name": "Python [default]",
   "language": "python",
   "name": "python2"
  },
  "language_info": {
   "codemirror_mode": {
    "name": "ipython",
    "version": 2
   },
   "file_extension": ".py",
   "mimetype": "text/x-python",
   "name": "python",
   "nbconvert_exporter": "python",
   "pygments_lexer": "ipython2",
   "version": "2.7.12"
  }
 },
 "nbformat": 4,
 "nbformat_minor": 1
}
